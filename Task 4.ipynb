{
 "cells": [
  {
   "cell_type": "code",
   "execution_count": 1,
   "id": "76719bcc",
   "metadata": {},
   "outputs": [
    {
     "name": "stdout",
     "output_type": "stream",
     "text": [
      "Welcome to Rock-Paper-Scissors Game!\n",
      "Choose one: rock, paper, scissors\n",
      "Enter your choice: rock\n",
      "Computer's choice: paper\n",
      "Computer wins this round!\n",
      "Your Score: 0  Computer Score: 1\n",
      "Do you want to play again? (yes/no): yes\n",
      "Welcome to Rock-Paper-Scissors Game!\n",
      "Choose one: rock, paper, scissors\n",
      "Enter your choice: paper\n",
      "Computer's choice: rock\n",
      "You win this round!\n",
      "Your Score: 1  Computer Score: 1\n",
      "Do you want to play again? (yes/no): no\n",
      "Thanks for playing! Goodbye!\n"
     ]
    }
   ],
   "source": [
    "import random\n",
    "\n",
    "choices = ['rock', 'paper', 'scissors']\n",
    "user_score = 0\n",
    "computer_score = 0\n",
    "\n",
    "def determine_winner(user_choice, computer_choice):\n",
    "    if user_choice == computer_choice:\n",
    "        return 'tie'\n",
    "    elif (user_choice == 'rock' and computer_choice == 'scissors') or (user_choice == 'scissors' and computer_choice == 'paper') or (user_choice == 'paper' and computer_choice == 'rock'):\n",
    "        return 'user'\n",
    "    else:\n",
    "        return 'computer'\n",
    "\n",
    "while True:\n",
    "    print(\"Welcome to Rock-Paper-Scissors Game!\")\n",
    "    print(\"Choose one: rock, paper, scissors\")\n",
    "    user_choice = input(\"Enter your choice: \").lower()\n",
    "\n",
    "    if user_choice not in choices:\n",
    "        print(\"Invalid choice. Please choose from 'rock', 'paper', or 'scissors'.\")\n",
    "        continue\n",
    "\n",
    "    computer_choice = random.choice(choices)\n",
    "    print(f\"Computer's choice: {computer_choice}\")\n",
    "\n",
    "    result = determine_winner(user_choice, computer_choice)\n",
    "\n",
    "    if result == 'user':\n",
    "        user_score += 1\n",
    "        print(\"You win this round!\")\n",
    "    elif result == 'computer':\n",
    "        computer_score += 1\n",
    "        print(\"Computer wins this round!\")\n",
    "    else:\n",
    "        print(\"It's a tie!\")\n",
    "\n",
    "    print(f\"Your Score: {user_score}  Computer Score: {computer_score}\")\n",
    "\n",
    "    play_again = input(\"Do you want to play again? (yes/no): \").lower()\n",
    "    if play_again != 'yes':\n",
    "        print(\"Thanks for playing! Goodbye!\")\n",
    "        break"
   ]
  },
  {
   "cell_type": "code",
   "execution_count": null,
   "id": "7d3b70ee",
   "metadata": {},
   "outputs": [],
   "source": []
  }
 ],
 "metadata": {
  "kernelspec": {
   "display_name": "Python 3 (ipykernel)",
   "language": "python",
   "name": "python3"
  },
  "language_info": {
   "codemirror_mode": {
    "name": "ipython",
    "version": 3
   },
   "file_extension": ".py",
   "mimetype": "text/x-python",
   "name": "python",
   "nbconvert_exporter": "python",
   "pygments_lexer": "ipython3",
   "version": "3.9.12"
  }
 },
 "nbformat": 4,
 "nbformat_minor": 5
}
