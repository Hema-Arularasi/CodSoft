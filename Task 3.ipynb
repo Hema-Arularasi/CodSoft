{
 "cells": [
  {
   "cell_type": "code",
   "execution_count": 1,
   "id": "86c4499f",
   "metadata": {},
   "outputs": [
    {
     "name": "stdout",
     "output_type": "stream",
     "text": [
      "Password Generator\n",
      "Enter the desired length of the password: 15\n",
      "Choose complexity:\n",
      "1. Only letters\n",
      "2. Letters and numbers\n",
      "3. Letters, numbers, and special characters\n",
      "4. Exit\n",
      "Enter your choice (1/2/3/4): 2\n",
      "Generated Password: x3IbZra79UxrPev\n",
      "Enter your choice (1/2/3/4): 3\n",
      "Generated Password: KBQHv3p[+B%pCAF\n",
      "Enter your choice (1/2/3/4): 4\n",
      "Exiting the password generator. Goodbye!\n"
     ]
    }
   ],
   "source": [
    "import random\n",
    "import string\n",
    "\n",
    "def generate_password(length, complexity):\n",
    "    if complexity == '1':\n",
    "        characters = string.ascii_letters\n",
    "    elif complexity == '2':\n",
    "        characters = string.ascii_letters + string.digits\n",
    "    elif complexity == '3':\n",
    "        characters = string.ascii_letters + string.digits + string.punctuation\n",
    "    else:\n",
    "        return \"Invalid complexity choice. Please try again.\"\n",
    "\n",
    "    password = ''.join(random.choice(characters) for _ in range(length))\n",
    "    return password\n",
    "\n",
    "if __name__ == \"__main__\":\n",
    "    print(\"Password Generator\")\n",
    "    while True:\n",
    "        try:\n",
    "            length = int(input(\"Enter the desired length of the password: \"))\n",
    "            if length <= 0:\n",
    "                print(\"Length should be a positive integer. Please try again.\")\n",
    "                continue\n",
    "            else:\n",
    "                break\n",
    "        except ValueError:\n",
    "            print(\"Invalid input. Please enter a valid integer.\")\n",
    "\n",
    "    print(\"Choose complexity:\")\n",
    "    print(\"1. Only letters\")\n",
    "    print(\"2. Letters and numbers\")\n",
    "    print(\"3. Letters, numbers, and special characters\")\n",
    "    print(\"4. Exit\")\n",
    "\n",
    "    while True:\n",
    "        complexity = input(\"Enter your choice (1/2/3/4): \")\n",
    "        if complexity in ('1', '2', '3'):\n",
    "            password = generate_password(length, complexity)\n",
    "            print(f\"Generated Password: {password}\")\n",
    "        elif complexity == '4':\n",
    "            print(\"Exiting the password generator. Goodbye!\")\n",
    "            break\n",
    "        else:\n",
    "            print(\"Invalid choice. Please choose a valid option.\")"
   ]
  },
  {
   "cell_type": "code",
   "execution_count": null,
   "id": "258a692a",
   "metadata": {},
   "outputs": [],
   "source": []
  }
 ],
 "metadata": {
  "kernelspec": {
   "display_name": "Python 3 (ipykernel)",
   "language": "python",
   "name": "python3"
  },
  "language_info": {
   "codemirror_mode": {
    "name": "ipython",
    "version": 3
   },
   "file_extension": ".py",
   "mimetype": "text/x-python",
   "name": "python",
   "nbconvert_exporter": "python",
   "pygments_lexer": "ipython3",
   "version": "3.9.12"
  }
 },
 "nbformat": 4,
 "nbformat_minor": 5
}
